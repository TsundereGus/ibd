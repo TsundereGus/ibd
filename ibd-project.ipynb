{
  "nbformat": 4,
  "nbformat_minor": 0,
  "metadata": {
    "colab": {
      "name": "Untitled0.ipynb",
      "provenance": [],
      "collapsed_sections": [],
      "authorship_tag": "ABX9TyM2Py2m6kTUXCnZDOf+5XQr",
      "include_colab_link": true
    },
    "kernelspec": {
      "name": "python3",
      "display_name": "Python 3"
    }
  },
  "cells": [
    {
      "cell_type": "markdown",
      "metadata": {
        "id": "view-in-github",
        "colab_type": "text"
      },
      "source": [
        "<a href=\"https://colab.research.google.com/github/TsundereGus/ibd/blob/master/ibd-project.ipynb\" target=\"_parent\"><img src=\"https://colab.research.google.com/assets/colab-badge.svg\" alt=\"Open In Colab\"/></a>"
      ]
    },
    {
      "cell_type": "markdown",
      "metadata": {
        "id": "UPOOj0Ed4b_J"
      },
      "source": [
        "\n",
        "## Trabalho Prático 1"
      ]
    },
    {
      "cell_type": "code",
      "metadata": {
        "id": "Hldd9zro4b16"
      },
      "source": [
        "import io\n",
        "import sqlite3\n",
        "import pandas as pd"
      ],
      "execution_count": null,
      "outputs": []
    },
    {
      "cell_type": "code",
      "metadata": {
        "id": "opA3hKpR4YNs"
      },
      "source": [
        "!wget --quiet -P /tmp/ https://raw.githubusercontent.com/TsundereGus/ibd/master/despesas.sql"
      ],
      "execution_count": null,
      "outputs": []
    },
    {
      "cell_type": "code",
      "metadata": {
        "id": "OsYKZtmS5-g3",
        "outputId": "58edd684-00e9-420c-c57f-208d8b39ed28",
        "colab": {
          "base_uri": "https://localhost:8080/",
          "height": 34
        }
      },
      "source": [
        "conn = sqlite3.connect('/tmp/consult.db')\n",
        "cursor = conn.cursor()\n",
        "\n",
        "f = io.open('/tmp/despesas.sql', 'r', encoding='utf-8')\n",
        "sql = f.read()\n",
        "cursor.executescript(sql)"
      ],
      "execution_count": null,
      "outputs": [
        {
          "output_type": "execute_result",
          "data": {
            "text/plain": [
              "<sqlite3.Cursor at 0x7f0bdace3960>"
            ]
          },
          "metadata": {
            "tags": []
          },
          "execution_count": 4
        }
      ]
    },
    {
      "cell_type": "markdown",
      "metadata": {
        "id": "scSSccuW6K5O"
      },
      "source": [
        "##Questões da Seção 4.1 a serem resolvidas\n"
      ]
    },
    {
      "cell_type": "markdown",
      "metadata": {
        "id": "J76cKxW-6ZeO"
      },
      "source": [
        "2. Liste o valor total de despesas públicas por função (nome) e subfunção (nome), apenas\n",
        "nos casos em que esse valor total excedeu 200 mil reais.\n"
      ]
    },
    {
      "cell_type": "code",
      "metadata": {
        "id": "rFXpnNLp6Ymt",
        "outputId": "a29ca09d-a7d8-4cfb-b59a-e566ec89f3e4",
        "colab": {
          "base_uri": "https://localhost:8080/",
          "height": 111
        }
      },
      "source": [
        "query = \"\"\"\n",
        "SELECT NOME_FUNCAO, NOME_SUBFUNCAO FROM FUNCAO AS F, SUBFUNCAO AS S WHERE F.COD_FUNCAO IN \n",
        "(SELECT DET.COD_FUNCAO FROM DETALHAMENTO_FUNCAO AS DET WHERE F.COD_FUNCAO = DET.COD_FUNCAO AND S.COD_SUBFUNCAO = DET.COD_SUBFUNCAO AND DET.COD_DETALHAMENTO IN \n",
        "(SELECT DESP.COD_DETALHAMENTO FROM DESPESA_PUBLICA AS DESP WHERE DET.COD_DETALHAMENTO = DESP.COD_DETALHAMENTO AND DESP.VALOR_DESPESA > 200000))\n",
        "\"\"\"\n",
        "\n",
        "df = pd.read_sql_query(query, conn)\n",
        "df"
      ],
      "execution_count": null,
      "outputs": [
        {
          "output_type": "execute_result",
          "data": {
            "text/html": [
              "<div>\n",
              "<style scoped>\n",
              "    .dataframe tbody tr th:only-of-type {\n",
              "        vertical-align: middle;\n",
              "    }\n",
              "\n",
              "    .dataframe tbody tr th {\n",
              "        vertical-align: top;\n",
              "    }\n",
              "\n",
              "    .dataframe thead th {\n",
              "        text-align: right;\n",
              "    }\n",
              "</style>\n",
              "<table border=\"1\" class=\"dataframe\">\n",
              "  <thead>\n",
              "    <tr style=\"text-align: right;\">\n",
              "      <th></th>\n",
              "      <th>NOME_FUNCAO</th>\n",
              "      <th>NOME_SUBFUNCAO</th>\n",
              "    </tr>\n",
              "  </thead>\n",
              "  <tbody>\n",
              "    <tr>\n",
              "      <th>0</th>\n",
              "      <td>Assistência social</td>\n",
              "      <td>Assistência comunitária</td>\n",
              "    </tr>\n",
              "    <tr>\n",
              "      <th>1</th>\n",
              "      <td>Educação</td>\n",
              "      <td>Educação básica</td>\n",
              "    </tr>\n",
              "  </tbody>\n",
              "</table>\n",
              "</div>"
            ],
            "text/plain": [
              "          NOME_FUNCAO           NOME_SUBFUNCAO\n",
              "0  Assistência social  Assistência comunitária\n",
              "1            Educação          Educação básica"
            ]
          },
          "metadata": {
            "tags": []
          },
          "execution_count": 46
        }
      ]
    },
    {
      "cell_type": "markdown",
      "metadata": {
        "id": "7E6zw0mZbswt"
      },
      "source": [
        "3. Liste todos os nomes dos órgaos e o valor das despesas totais no ano de 2018 para os mesmos, ordenando de forma decrescente pelo valor."
      ]
    },
    {
      "cell_type": "markdown",
      "metadata": {
        "id": "7kdNYLQ6Nr9T"
      },
      "source": [
        ""
      ]
    },
    {
      "cell_type": "code",
      "metadata": {
        "id": "gMCy3hFIcAWA",
        "outputId": "f1d091a7-5274-45ef-c970-733a851caa3f",
        "colab": {
          "base_uri": "https://localhost:8080/",
          "height": 483
        }
      },
      "source": [
        "query = \"\"\"\n",
        "SELECT O.NOME_ORGAO, SUM(DESP.VALOR_DESPESA) AS DESPESAS_2018 FROM ORGAO AS O, DESPESA_PUBLICA AS DESP WHERE O.COD_ORGAO IN\n",
        "(SELECT DESP.COD_ORGAO FROM DESPESA_PUBLICA WHERE O.COD_ORGAO = DESP.COD_ORGAO AND ANO_DESPESA = 2018)\n",
        "GROUP BY O.COD_ORGAO\n",
        "ORDER BY SUM(DESP.VALOR_DESPESA) DESC\n",
        "\"\"\"\n",
        "\n",
        "df = pd.read_sql_query(query, conn)\n",
        "df"
      ],
      "execution_count": 67,
      "outputs": [
        {
          "output_type": "execute_result",
          "data": {
            "text/html": [
              "<div>\n",
              "<style scoped>\n",
              "    .dataframe tbody tr th:only-of-type {\n",
              "        vertical-align: middle;\n",
              "    }\n",
              "\n",
              "    .dataframe tbody tr th {\n",
              "        vertical-align: top;\n",
              "    }\n",
              "\n",
              "    .dataframe thead th {\n",
              "        text-align: right;\n",
              "    }\n",
              "</style>\n",
              "<table border=\"1\" class=\"dataframe\">\n",
              "  <thead>\n",
              "    <tr style=\"text-align: right;\">\n",
              "      <th></th>\n",
              "      <th>NOME_ORGAO</th>\n",
              "      <th>DESPESAS_2018</th>\n",
              "    </tr>\n",
              "  </thead>\n",
              "  <tbody>\n",
              "    <tr>\n",
              "      <th>0</th>\n",
              "      <td>Ministério da Defesa</td>\n",
              "      <td>353376.70</td>\n",
              "    </tr>\n",
              "    <tr>\n",
              "      <th>1</th>\n",
              "      <td>Ministério do Desenvolvimento Social</td>\n",
              "      <td>278586.35</td>\n",
              "    </tr>\n",
              "    <tr>\n",
              "      <th>2</th>\n",
              "      <td>Ministério da Agricultura, Pecuária e Abastec</td>\n",
              "      <td>90836.51</td>\n",
              "    </tr>\n",
              "    <tr>\n",
              "      <th>3</th>\n",
              "      <td>Ministério da Educação</td>\n",
              "      <td>64007.82</td>\n",
              "    </tr>\n",
              "    <tr>\n",
              "      <th>4</th>\n",
              "      <td>Ministério da Saúde</td>\n",
              "      <td>50971.19</td>\n",
              "    </tr>\n",
              "    <tr>\n",
              "      <th>5</th>\n",
              "      <td>Presidência da República</td>\n",
              "      <td>0.00</td>\n",
              "    </tr>\n",
              "    <tr>\n",
              "      <th>6</th>\n",
              "      <td>Ministério da Ciência, Tecnologia, Inovações</td>\n",
              "      <td>0.00</td>\n",
              "    </tr>\n",
              "    <tr>\n",
              "      <th>7</th>\n",
              "      <td>Ministério da Fazenda</td>\n",
              "      <td>0.00</td>\n",
              "    </tr>\n",
              "    <tr>\n",
              "      <th>8</th>\n",
              "      <td>Ministério da Justiça e Segurança Pública</td>\n",
              "      <td>0.00</td>\n",
              "    </tr>\n",
              "    <tr>\n",
              "      <th>9</th>\n",
              "      <td>Ministério das Relações Exteriores</td>\n",
              "      <td>0.00</td>\n",
              "    </tr>\n",
              "    <tr>\n",
              "      <th>10</th>\n",
              "      <td>Ministério dos Transportes, Portos e Aviação</td>\n",
              "      <td>0.00</td>\n",
              "    </tr>\n",
              "    <tr>\n",
              "      <th>11</th>\n",
              "      <td>Ministério do Meio Ambiente</td>\n",
              "      <td>0.00</td>\n",
              "    </tr>\n",
              "    <tr>\n",
              "      <th>12</th>\n",
              "      <td>Ministério da Integração Nacional</td>\n",
              "      <td>0.00</td>\n",
              "    </tr>\n",
              "    <tr>\n",
              "      <th>13</th>\n",
              "      <td>Ministério dos Direitos Humanos</td>\n",
              "      <td>0.00</td>\n",
              "    </tr>\n",
              "  </tbody>\n",
              "</table>\n",
              "</div>"
            ],
            "text/plain": [
              "                                       NOME_ORGAO  DESPESAS_2018\n",
              "0                            Ministério da Defesa      353376.70\n",
              "1            Ministério do Desenvolvimento Social      278586.35\n",
              "2   Ministério da Agricultura, Pecuária e Abastec       90836.51\n",
              "3                          Ministério da Educação       64007.82\n",
              "4                             Ministério da Saúde       50971.19\n",
              "5                        Presidência da República           0.00\n",
              "6   Ministério da Ciência, Tecnologia, Inovações            0.00\n",
              "7                           Ministério da Fazenda           0.00\n",
              "8       Ministério da Justiça e Segurança Pública           0.00\n",
              "9              Ministério das Relações Exteriores           0.00\n",
              "10  Ministério dos Transportes, Portos e Aviação            0.00\n",
              "11                    Ministério do Meio Ambiente           0.00\n",
              "12              Ministério da Integração Nacional           0.00\n",
              "13                Ministério dos Direitos Humanos           0.00"
            ]
          },
          "metadata": {
            "tags": []
          },
          "execution_count": 67
        }
      ]
    },
    {
      "cell_type": "markdown",
      "metadata": {
        "id": "L75XeKzyRXnF"
      },
      "source": [
        "4. Liste o mês e ano, modalidade, programa de governo e valor de todas as despesas do\n",
        "órgão Ministério da Fazenda no primeiro semestre de 2018."
      ]
    },
    {
      "cell_type": "code",
      "metadata": {
        "id": "5hqvm3zWRYmz",
        "outputId": "303dbbda-7711-461d-a022-ae8261f800ba",
        "colab": {
          "base_uri": "https://localhost:8080/",
          "height": 419
        }
      },
      "source": [
        "query = \"\"\"\n",
        "SELECT MES_DESPESA, ANO_DESPESA, MODALIDADE_DESPESA, NOME_PROGRAMA_GOVERNO, VALOR_DESPESA FROM DESPESA_PUBLICA, PROGRAMA_GOVERNO WHERE MES_DESPESA IN (1, 2, 3)\n",
        "\"\"\"\n",
        "\n",
        "df = pd.read_sql_query(query, conn)\n",
        "df"
      ],
      "execution_count": 70,
      "outputs": [
        {
          "output_type": "execute_result",
          "data": {
            "text/html": [
              "<div>\n",
              "<style scoped>\n",
              "    .dataframe tbody tr th:only-of-type {\n",
              "        vertical-align: middle;\n",
              "    }\n",
              "\n",
              "    .dataframe tbody tr th {\n",
              "        vertical-align: top;\n",
              "    }\n",
              "\n",
              "    .dataframe thead th {\n",
              "        text-align: right;\n",
              "    }\n",
              "</style>\n",
              "<table border=\"1\" class=\"dataframe\">\n",
              "  <thead>\n",
              "    <tr style=\"text-align: right;\">\n",
              "      <th></th>\n",
              "      <th>MES_DESPESA</th>\n",
              "      <th>ANO_DESPESA</th>\n",
              "      <th>MODALIDADE_DESPESA</th>\n",
              "      <th>NOME_PROGRAMA_GOVERNO</th>\n",
              "      <th>VALOR_DESPESA</th>\n",
              "    </tr>\n",
              "  </thead>\n",
              "  <tbody>\n",
              "    <tr>\n",
              "      <th>0</th>\n",
              "      <td>3</td>\n",
              "      <td>2018</td>\n",
              "      <td>Reserva de Contingência</td>\n",
              "      <td>VIVER SEM LIMITE</td>\n",
              "      <td>0.0</td>\n",
              "    </tr>\n",
              "    <tr>\n",
              "      <th>1</th>\n",
              "      <td>3</td>\n",
              "      <td>2018</td>\n",
              "      <td>Reserva de Contingência</td>\n",
              "      <td>SOS EMERGENCIA</td>\n",
              "      <td>0.0</td>\n",
              "    </tr>\n",
              "    <tr>\n",
              "      <th>2</th>\n",
              "      <td>3</td>\n",
              "      <td>2018</td>\n",
              "      <td>Reserva de Contingência</td>\n",
              "      <td>MELHOR EM CASA</td>\n",
              "      <td>0.0</td>\n",
              "    </tr>\n",
              "    <tr>\n",
              "      <th>3</th>\n",
              "      <td>3</td>\n",
              "      <td>2018</td>\n",
              "      <td>Reserva de Contingência</td>\n",
              "      <td>UBS</td>\n",
              "      <td>0.0</td>\n",
              "    </tr>\n",
              "    <tr>\n",
              "      <th>4</th>\n",
              "      <td>3</td>\n",
              "      <td>2018</td>\n",
              "      <td>Reserva de Contingência</td>\n",
              "      <td>UPA (INVESTIMENTO, CUSTEIO E COMPLEXO DE REGUL...</td>\n",
              "      <td>0.0</td>\n",
              "    </tr>\n",
              "    <tr>\n",
              "      <th>...</th>\n",
              "      <td>...</td>\n",
              "      <td>...</td>\n",
              "      <td>...</td>\n",
              "      <td>...</td>\n",
              "      <td>...</td>\n",
              "    </tr>\n",
              "    <tr>\n",
              "      <th>8095</th>\n",
              "      <td>3</td>\n",
              "      <td>2018</td>\n",
              "      <td>Reserva de Contingência</td>\n",
              "      <td>ENAFRON</td>\n",
              "      <td>0.0</td>\n",
              "    </tr>\n",
              "    <tr>\n",
              "      <th>8096</th>\n",
              "      <td>3</td>\n",
              "      <td>2018</td>\n",
              "      <td>Reserva de Contingência</td>\n",
              "      <td>VIOLENCIA NO TRANSITO</td>\n",
              "      <td>0.0</td>\n",
              "    </tr>\n",
              "    <tr>\n",
              "      <th>8097</th>\n",
              "      <td>3</td>\n",
              "      <td>2018</td>\n",
              "      <td>Reserva de Contingência</td>\n",
              "      <td>SEGURO RURAL PRIVADO</td>\n",
              "      <td>0.0</td>\n",
              "    </tr>\n",
              "    <tr>\n",
              "      <th>8098</th>\n",
              "      <td>3</td>\n",
              "      <td>2018</td>\n",
              "      <td>Reserva de Contingência</td>\n",
              "      <td>PROGRAMA NACIONAL DE MELHORIA DE ACESSO E QUAL...</td>\n",
              "      <td>0.0</td>\n",
              "    </tr>\n",
              "    <tr>\n",
              "      <th>8099</th>\n",
              "      <td>3</td>\n",
              "      <td>2018</td>\n",
              "      <td>Reserva de Contingência</td>\n",
              "      <td>MAIS MEDICOS</td>\n",
              "      <td>0.0</td>\n",
              "    </tr>\n",
              "  </tbody>\n",
              "</table>\n",
              "<p>8100 rows × 5 columns</p>\n",
              "</div>"
            ],
            "text/plain": [
              "      MES_DESPESA  ...  VALOR_DESPESA\n",
              "0               3  ...            0.0\n",
              "1               3  ...            0.0\n",
              "2               3  ...            0.0\n",
              "3               3  ...            0.0\n",
              "4               3  ...            0.0\n",
              "...           ...  ...            ...\n",
              "8095            3  ...            0.0\n",
              "8096            3  ...            0.0\n",
              "8097            3  ...            0.0\n",
              "8098            3  ...            0.0\n",
              "8099            3  ...            0.0\n",
              "\n",
              "[8100 rows x 5 columns]"
            ]
          },
          "metadata": {
            "tags": []
          },
          "execution_count": 70
        }
      ]
    }
  ]
}