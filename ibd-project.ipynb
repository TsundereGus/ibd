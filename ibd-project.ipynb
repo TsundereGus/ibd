{
  "nbformat": 4,
  "nbformat_minor": 0,
  "metadata": {
    "colab": {
      "name": "Untitled0.ipynb",
      "provenance": [],
      "collapsed_sections": [],
      "authorship_tag": "ABX9TyM6h8oZ4oz3kSLUsgJis0Mi",
      "include_colab_link": true
    },
    "kernelspec": {
      "name": "python3",
      "display_name": "Python 3"
    }
  },
  "cells": [
    {
      "cell_type": "markdown",
      "metadata": {
        "id": "view-in-github",
        "colab_type": "text"
      },
      "source": [
        "<a href=\"https://colab.research.google.com/github/TsundereGus/ibd/blob/master/ibd-project.ipynb\" target=\"_parent\"><img src=\"https://colab.research.google.com/assets/colab-badge.svg\" alt=\"Open In Colab\"/></a>"
      ]
    },
    {
      "cell_type": "markdown",
      "metadata": {
        "id": "UPOOj0Ed4b_J"
      },
      "source": [
        "\n",
        "## Trabalho Prático 1"
      ]
    },
    {
      "cell_type": "code",
      "metadata": {
        "id": "Hldd9zro4b16"
      },
      "source": [
        "import io\n",
        "import sqlite3\n",
        "import pandas as pd"
      ],
      "execution_count": 1,
      "outputs": []
    },
    {
      "cell_type": "code",
      "metadata": {
        "id": "opA3hKpR4YNs"
      },
      "source": [
        "!wget --quiet -P /tmp/ https://raw.githubusercontent.com/TsundereGus/ibd/master/despesas.sql"
      ],
      "execution_count": 2,
      "outputs": []
    },
    {
      "cell_type": "code",
      "metadata": {
        "id": "OsYKZtmS5-g3",
        "outputId": "f8a23a0a-8523-4f9b-a5ad-5f4d26872d4a",
        "colab": {
          "base_uri": "https://localhost:8080/",
          "height": 34
        }
      },
      "source": [
        "conn = sqlite3.connect('/tmp/consult.db')\n",
        "cursor = conn.cursor()\n",
        "\n",
        "f = io.open('/tmp/despesas.sql', 'r', encoding='utf-8')\n",
        "sql = f.read()\n",
        "cursor.executescript(sql)"
      ],
      "execution_count": 3,
      "outputs": [
        {
          "output_type": "execute_result",
          "data": {
            "text/plain": [
              "<sqlite3.Cursor at 0x7fe957ed1ce0>"
            ]
          },
          "metadata": {
            "tags": []
          },
          "execution_count": 3
        }
      ]
    },
    {
      "cell_type": "markdown",
      "metadata": {
        "id": "scSSccuW6K5O"
      },
      "source": [
        "##Questões da Seção 4.1 a serem resolvidas\n"
      ]
    },
    {
      "cell_type": "markdown",
      "metadata": {
        "id": "J76cKxW-6ZeO"
      },
      "source": [
        "2. Liste o valor total de despesas públicas por função (nome) e subfunção (nome), apenas\n",
        "nos casos em que esse valor total excedeu 200 mil reais.\n"
      ]
    },
    {
      "cell_type": "code",
      "metadata": {
        "id": "rFXpnNLp6Ymt",
        "outputId": "71668796-239d-498b-ad9d-a12fd12509d4",
        "colab": {
          "base_uri": "https://localhost:8080/",
          "height": 111
        }
      },
      "source": [
        "query = \"\"\"\n",
        "SELECT NOME_FUNCAO, NOME_SUBFUNCAO FROM FUNCAO AS F, SUBFUNCAO AS S WHERE F.COD_FUNCAO IN \n",
        "(SELECT DET.COD_FUNCAO FROM DETALHAMENTO_FUNCAO AS DET WHERE F.COD_FUNCAO = DET.COD_FUNCAO AND S.COD_SUBFUNCAO = DET.COD_SUBFUNCAO AND DET.COD_DETALHAMENTO IN \n",
        "(SELECT DESP.COD_DETALHAMENTO FROM DESPESA_PUBLICA AS DESP WHERE DET.COD_DETALHAMENTO = DESP.COD_DETALHAMENTO AND DESP.VALOR_DESPESA > 200000))\n",
        "\"\"\"\n",
        "\n",
        "df = pd.read_sql_query(query, conn)\n",
        "df"
      ],
      "execution_count": null,
      "outputs": [
        {
          "output_type": "execute_result",
          "data": {
            "text/html": [
              "<div>\n",
              "<style scoped>\n",
              "    .dataframe tbody tr th:only-of-type {\n",
              "        vertical-align: middle;\n",
              "    }\n",
              "\n",
              "    .dataframe tbody tr th {\n",
              "        vertical-align: top;\n",
              "    }\n",
              "\n",
              "    .dataframe thead th {\n",
              "        text-align: right;\n",
              "    }\n",
              "</style>\n",
              "<table border=\"1\" class=\"dataframe\">\n",
              "  <thead>\n",
              "    <tr style=\"text-align: right;\">\n",
              "      <th></th>\n",
              "      <th>NOME_FUNCAO</th>\n",
              "      <th>NOME_SUBFUNCAO</th>\n",
              "    </tr>\n",
              "  </thead>\n",
              "  <tbody>\n",
              "    <tr>\n",
              "      <th>0</th>\n",
              "      <td>Assistência social</td>\n",
              "      <td>Assistência comunitária</td>\n",
              "    </tr>\n",
              "    <tr>\n",
              "      <th>1</th>\n",
              "      <td>Educação</td>\n",
              "      <td>Educação básica</td>\n",
              "    </tr>\n",
              "  </tbody>\n",
              "</table>\n",
              "</div>"
            ],
            "text/plain": [
              "          NOME_FUNCAO           NOME_SUBFUNCAO\n",
              "0  Assistência social  Assistência comunitária\n",
              "1            Educação          Educação básica"
            ]
          },
          "metadata": {
            "tags": []
          },
          "execution_count": 94
        }
      ]
    },
    {
      "cell_type": "markdown",
      "metadata": {
        "id": "7E6zw0mZbswt"
      },
      "source": [
        "3. Liste todos os nomes dos órgaos e o valor das despesas totais no ano de 2018 para os mesmos, ordenando de forma decrescente pelo valor."
      ]
    },
    {
      "cell_type": "markdown",
      "metadata": {
        "id": "7kdNYLQ6Nr9T"
      },
      "source": [
        ""
      ]
    },
    {
      "cell_type": "code",
      "metadata": {
        "id": "gMCy3hFIcAWA",
        "outputId": "f1d091a7-5274-45ef-c970-733a851caa3f",
        "colab": {
          "base_uri": "https://localhost:8080/",
          "height": 483
        }
      },
      "source": [
        "query = \"\"\"\n",
        "SELECT O.NOME_ORGAO, SUM(DESP.VALOR_DESPESA) AS DESPESAS_2018 FROM ORGAO AS O, DESPESA_PUBLICA AS DESP WHERE O.COD_ORGAO IN\n",
        "(SELECT DESP.COD_ORGAO FROM DESPESA_PUBLICA WHERE O.COD_ORGAO = DESP.COD_ORGAO AND ANO_DESPESA = 2018)\n",
        "GROUP BY O.COD_ORGAO\n",
        "ORDER BY SUM(DESP.VALOR_DESPESA) DESC\n",
        "\"\"\"\n",
        "\n",
        "df = pd.read_sql_query(query, conn)\n",
        "df"
      ],
      "execution_count": null,
      "outputs": [
        {
          "output_type": "execute_result",
          "data": {
            "text/html": [
              "<div>\n",
              "<style scoped>\n",
              "    .dataframe tbody tr th:only-of-type {\n",
              "        vertical-align: middle;\n",
              "    }\n",
              "\n",
              "    .dataframe tbody tr th {\n",
              "        vertical-align: top;\n",
              "    }\n",
              "\n",
              "    .dataframe thead th {\n",
              "        text-align: right;\n",
              "    }\n",
              "</style>\n",
              "<table border=\"1\" class=\"dataframe\">\n",
              "  <thead>\n",
              "    <tr style=\"text-align: right;\">\n",
              "      <th></th>\n",
              "      <th>NOME_ORGAO</th>\n",
              "      <th>DESPESAS_2018</th>\n",
              "    </tr>\n",
              "  </thead>\n",
              "  <tbody>\n",
              "    <tr>\n",
              "      <th>0</th>\n",
              "      <td>Ministério da Defesa</td>\n",
              "      <td>353376.70</td>\n",
              "    </tr>\n",
              "    <tr>\n",
              "      <th>1</th>\n",
              "      <td>Ministério do Desenvolvimento Social</td>\n",
              "      <td>278586.35</td>\n",
              "    </tr>\n",
              "    <tr>\n",
              "      <th>2</th>\n",
              "      <td>Ministério da Agricultura, Pecuária e Abastec</td>\n",
              "      <td>90836.51</td>\n",
              "    </tr>\n",
              "    <tr>\n",
              "      <th>3</th>\n",
              "      <td>Ministério da Educação</td>\n",
              "      <td>64007.82</td>\n",
              "    </tr>\n",
              "    <tr>\n",
              "      <th>4</th>\n",
              "      <td>Ministério da Saúde</td>\n",
              "      <td>50971.19</td>\n",
              "    </tr>\n",
              "    <tr>\n",
              "      <th>5</th>\n",
              "      <td>Presidência da República</td>\n",
              "      <td>0.00</td>\n",
              "    </tr>\n",
              "    <tr>\n",
              "      <th>6</th>\n",
              "      <td>Ministério da Ciência, Tecnologia, Inovações</td>\n",
              "      <td>0.00</td>\n",
              "    </tr>\n",
              "    <tr>\n",
              "      <th>7</th>\n",
              "      <td>Ministério da Fazenda</td>\n",
              "      <td>0.00</td>\n",
              "    </tr>\n",
              "    <tr>\n",
              "      <th>8</th>\n",
              "      <td>Ministério da Justiça e Segurança Pública</td>\n",
              "      <td>0.00</td>\n",
              "    </tr>\n",
              "    <tr>\n",
              "      <th>9</th>\n",
              "      <td>Ministério das Relações Exteriores</td>\n",
              "      <td>0.00</td>\n",
              "    </tr>\n",
              "    <tr>\n",
              "      <th>10</th>\n",
              "      <td>Ministério dos Transportes, Portos e Aviação</td>\n",
              "      <td>0.00</td>\n",
              "    </tr>\n",
              "    <tr>\n",
              "      <th>11</th>\n",
              "      <td>Ministério do Meio Ambiente</td>\n",
              "      <td>0.00</td>\n",
              "    </tr>\n",
              "    <tr>\n",
              "      <th>12</th>\n",
              "      <td>Ministério da Integração Nacional</td>\n",
              "      <td>0.00</td>\n",
              "    </tr>\n",
              "    <tr>\n",
              "      <th>13</th>\n",
              "      <td>Ministério dos Direitos Humanos</td>\n",
              "      <td>0.00</td>\n",
              "    </tr>\n",
              "  </tbody>\n",
              "</table>\n",
              "</div>"
            ],
            "text/plain": [
              "                                       NOME_ORGAO  DESPESAS_2018\n",
              "0                            Ministério da Defesa      353376.70\n",
              "1            Ministério do Desenvolvimento Social      278586.35\n",
              "2   Ministério da Agricultura, Pecuária e Abastec       90836.51\n",
              "3                          Ministério da Educação       64007.82\n",
              "4                             Ministério da Saúde       50971.19\n",
              "5                        Presidência da República           0.00\n",
              "6   Ministério da Ciência, Tecnologia, Inovações            0.00\n",
              "7                           Ministério da Fazenda           0.00\n",
              "8       Ministério da Justiça e Segurança Pública           0.00\n",
              "9              Ministério das Relações Exteriores           0.00\n",
              "10  Ministério dos Transportes, Portos e Aviação            0.00\n",
              "11                    Ministério do Meio Ambiente           0.00\n",
              "12              Ministério da Integração Nacional           0.00\n",
              "13                Ministério dos Direitos Humanos           0.00"
            ]
          },
          "metadata": {
            "tags": []
          },
          "execution_count": 67
        }
      ]
    },
    {
      "cell_type": "markdown",
      "metadata": {
        "id": "L75XeKzyRXnF"
      },
      "source": [
        "4. Liste o mês e ano, modalidade, programa de governo e valor de todas as despesas do\n",
        "órgão Ministério da Fazenda no primeiro semestre de 2018."
      ]
    },
    {
      "cell_type": "code",
      "metadata": {
        "id": "5hqvm3zWRYmz",
        "outputId": "e07fbcbf-f596-4a33-8232-19f705975f1d",
        "colab": {
          "base_uri": "https://localhost:8080/",
          "height": 419
        }
      },
      "source": [
        "query = \"\"\"\n",
        "SELECT MES_DESPESA, ANO_DESPESA, MODALIDADE_DESPESA, NOME_PROGRAMA_GOVERNO, VALOR_DESPESA FROM DESPESA_PUBLICA, PROGRAMA_GOVERNO \n",
        "WHERE MES_DESPESA IN (1, 2, 3) AND COD_ORGAO = 25000 ORDER BY MES_DESPESA\n",
        "\"\"\"\n",
        "\n",
        "df = pd.read_sql_query(query, conn)\n",
        "df"
      ],
      "execution_count": null,
      "outputs": [
        {
          "output_type": "execute_result",
          "data": {
            "text/html": [
              "<div>\n",
              "<style scoped>\n",
              "    .dataframe tbody tr th:only-of-type {\n",
              "        vertical-align: middle;\n",
              "    }\n",
              "\n",
              "    .dataframe tbody tr th {\n",
              "        vertical-align: top;\n",
              "    }\n",
              "\n",
              "    .dataframe thead th {\n",
              "        text-align: right;\n",
              "    }\n",
              "</style>\n",
              "<table border=\"1\" class=\"dataframe\">\n",
              "  <thead>\n",
              "    <tr style=\"text-align: right;\">\n",
              "      <th></th>\n",
              "      <th>MES_DESPESA</th>\n",
              "      <th>ANO_DESPESA</th>\n",
              "      <th>MODALIDADE_DESPESA</th>\n",
              "      <th>NOME_PROGRAMA_GOVERNO</th>\n",
              "      <th>VALOR_DESPESA</th>\n",
              "    </tr>\n",
              "  </thead>\n",
              "  <tbody>\n",
              "    <tr>\n",
              "      <th>0</th>\n",
              "      <td>1</td>\n",
              "      <td>2018</td>\n",
              "      <td>Reserva de Contingência</td>\n",
              "      <td>VIVER SEM LIMITE</td>\n",
              "      <td>0</td>\n",
              "    </tr>\n",
              "    <tr>\n",
              "      <th>1</th>\n",
              "      <td>1</td>\n",
              "      <td>2018</td>\n",
              "      <td>Reserva de Contingência</td>\n",
              "      <td>SOS EMERGENCIA</td>\n",
              "      <td>0</td>\n",
              "    </tr>\n",
              "    <tr>\n",
              "      <th>2</th>\n",
              "      <td>1</td>\n",
              "      <td>2018</td>\n",
              "      <td>Reserva de Contingência</td>\n",
              "      <td>MELHOR EM CASA</td>\n",
              "      <td>0</td>\n",
              "    </tr>\n",
              "    <tr>\n",
              "      <th>3</th>\n",
              "      <td>1</td>\n",
              "      <td>2018</td>\n",
              "      <td>Reserva de Contingência</td>\n",
              "      <td>UBS</td>\n",
              "      <td>0</td>\n",
              "    </tr>\n",
              "    <tr>\n",
              "      <th>4</th>\n",
              "      <td>1</td>\n",
              "      <td>2018</td>\n",
              "      <td>Reserva de Contingência</td>\n",
              "      <td>UPA (INVESTIMENTO, CUSTEIO E COMPLEXO DE REGUL...</td>\n",
              "      <td>0</td>\n",
              "    </tr>\n",
              "    <tr>\n",
              "      <th>...</th>\n",
              "      <td>...</td>\n",
              "      <td>...</td>\n",
              "      <td>...</td>\n",
              "      <td>...</td>\n",
              "      <td>...</td>\n",
              "    </tr>\n",
              "    <tr>\n",
              "      <th>76</th>\n",
              "      <td>3</td>\n",
              "      <td>2018</td>\n",
              "      <td>Reserva de Contingência</td>\n",
              "      <td>ENAFRON</td>\n",
              "      <td>0</td>\n",
              "    </tr>\n",
              "    <tr>\n",
              "      <th>77</th>\n",
              "      <td>3</td>\n",
              "      <td>2018</td>\n",
              "      <td>Reserva de Contingência</td>\n",
              "      <td>VIOLENCIA NO TRANSITO</td>\n",
              "      <td>0</td>\n",
              "    </tr>\n",
              "    <tr>\n",
              "      <th>78</th>\n",
              "      <td>3</td>\n",
              "      <td>2018</td>\n",
              "      <td>Reserva de Contingência</td>\n",
              "      <td>SEGURO RURAL PRIVADO</td>\n",
              "      <td>0</td>\n",
              "    </tr>\n",
              "    <tr>\n",
              "      <th>79</th>\n",
              "      <td>3</td>\n",
              "      <td>2018</td>\n",
              "      <td>Reserva de Contingência</td>\n",
              "      <td>PROGRAMA NACIONAL DE MELHORIA DE ACESSO E QUAL...</td>\n",
              "      <td>0</td>\n",
              "    </tr>\n",
              "    <tr>\n",
              "      <th>80</th>\n",
              "      <td>3</td>\n",
              "      <td>2018</td>\n",
              "      <td>Reserva de Contingência</td>\n",
              "      <td>MAIS MEDICOS</td>\n",
              "      <td>0</td>\n",
              "    </tr>\n",
              "  </tbody>\n",
              "</table>\n",
              "<p>81 rows × 5 columns</p>\n",
              "</div>"
            ],
            "text/plain": [
              "    MES_DESPESA  ...  VALOR_DESPESA\n",
              "0             1  ...              0\n",
              "1             1  ...              0\n",
              "2             1  ...              0\n",
              "3             1  ...              0\n",
              "4             1  ...              0\n",
              "..          ...  ...            ...\n",
              "76            3  ...              0\n",
              "77            3  ...              0\n",
              "78            3  ...              0\n",
              "79            3  ...              0\n",
              "80            3  ...              0\n",
              "\n",
              "[81 rows x 5 columns]"
            ]
          },
          "metadata": {
            "tags": []
          },
          "execution_count": 82
        }
      ]
    },
    {
      "cell_type": "markdown",
      "metadata": {
        "id": "foT-QiGlfjKi"
      },
      "source": [
        "5. Liste o código e nome dos programas de governo que possuiram os 3 maiores valores\n",
        "de despesas totais na função de educação durante o ano de 2018."
      ]
    },
    {
      "cell_type": "code",
      "metadata": {
        "id": "wjq7RUxVfjzP",
        "outputId": "fb294885-a88a-4a34-94d4-7d0b5d923d86",
        "colab": {
          "base_uri": "https://localhost:8080/",
          "height": 142
        }
      },
      "source": [
        "query = \"\"\"\n",
        "SELECT P.COD_PROGRAMA_GOVERNO, NOME_PROGRAMA_GOVERNO FROM PROGRAMA_GOVERNO AS P, DESPESA_PUBLICA AS D WHERE D.COD_DETALHAMENTO IN (18, 19, 20, 21, 22) AND ANO_DESPESA = 2018 GROUP BY NOME_PROGRAMA_GOVERNO LIMIT 3\n",
        "\"\"\"\n",
        "\n",
        "df = pd.read_sql_query(query, conn)\n",
        "df"
      ],
      "execution_count": null,
      "outputs": [
        {
          "output_type": "execute_result",
          "data": {
            "text/html": [
              "<div>\n",
              "<style scoped>\n",
              "    .dataframe tbody tr th:only-of-type {\n",
              "        vertical-align: middle;\n",
              "    }\n",
              "\n",
              "    .dataframe tbody tr th {\n",
              "        vertical-align: top;\n",
              "    }\n",
              "\n",
              "    .dataframe thead th {\n",
              "        text-align: right;\n",
              "    }\n",
              "</style>\n",
              "<table border=\"1\" class=\"dataframe\">\n",
              "  <thead>\n",
              "    <tr style=\"text-align: right;\">\n",
              "      <th></th>\n",
              "      <th>COD_PROGRAMA_GOVERNO</th>\n",
              "      <th>NOME_PROGRAMA_GOVERNO</th>\n",
              "    </tr>\n",
              "  </thead>\n",
              "  <tbody>\n",
              "    <tr>\n",
              "      <th>0</th>\n",
              "      <td>24</td>\n",
              "      <td>BRASIL SEM MISERIA</td>\n",
              "    </tr>\n",
              "    <tr>\n",
              "      <th>1</th>\n",
              "      <td>18</td>\n",
              "      <td>CADEIAS PUBLICAS</td>\n",
              "    </tr>\n",
              "    <tr>\n",
              "      <th>2</th>\n",
              "      <td>8</td>\n",
              "      <td>CIENCIA SEM FRONTEIRAS</td>\n",
              "    </tr>\n",
              "  </tbody>\n",
              "</table>\n",
              "</div>"
            ],
            "text/plain": [
              "   COD_PROGRAMA_GOVERNO   NOME_PROGRAMA_GOVERNO\n",
              "0                    24      BRASIL SEM MISERIA\n",
              "1                    18        CADEIAS PUBLICAS\n",
              "2                     8  CIENCIA SEM FRONTEIRAS"
            ]
          },
          "metadata": {
            "tags": []
          },
          "execution_count": 102
        }
      ]
    },
    {
      "cell_type": "markdown",
      "metadata": {
        "id": "vpDXKQFi17pA"
      },
      "source": [
        "8. Liste os nomes das subfunções das despesas públicas envolvidas para cada programa de\n",
        "governo. Sua consulta deve retornar o nome do programa de governo, a subfunção da\n",
        "despesa, a quantidade de entradas de despesas públicas e o valor total dessas despesas."
      ]
    },
    {
      "cell_type": "code",
      "metadata": {
        "id": "mEefzgRp2Aww",
        "outputId": "f16ad48c-2b28-461c-9897-5fb5de1f63a1",
        "colab": {
          "base_uri": "https://localhost:8080/",
          "height": 419
        }
      },
      "source": [
        "query = \"\"\"\n",
        "SELECT P.NOME_PROGRAMA_GOVERNO, S.NOME_SUBFUNCAO, COUNT(DESP.COD_PROGRAMA_GOVERNO), SUM(DESP.VALOR_DESPESA) FROM PROGRAMA_GOVERNO AS P, SUBFUNCAO AS S, DESPESA_PUBLICA AS DESP WHERE S.COD_SUBFUNCAO IN \n",
        "(SELECT DET.COD_SUBFUNCAO FROM DETALHAMENTO_FUNCAO AS DET WHERE S.COD_SUBFUNCAO = DET.COD_SUBFUNCAO AND DET.COD_DETALHAMENTO IN \n",
        "(SELECT DESP.COD_DETALHAMENTO FROM DESPESA_PUBLICA WHERE DET.COD_DETALHAMENTO = DESP.COD_DETALHAMENTO)) AND P.COD_PROGRAMA_GOVERNO IN\n",
        "(SELECT DESP.COD_PROGRAMA_GOVERNO FROM DESPESA_PUBLICA WHERE P.COD_PROGRAMA_GOVERNO = DESP.COD_PROGRAMA_GOVERNO)\n",
        "GROUP BY P.NOME_PROGRAMA_GOVERNO, DESP.COD_DETALHAMENTO ORDER BY SUM(DESP.VALOR_DESPESA) DESC\n",
        "\"\"\"\n",
        "\n",
        "df = pd.read_sql_query(query, conn)\n",
        "df"
      ],
      "execution_count": 36,
      "outputs": [
        {
          "output_type": "execute_result",
          "data": {
            "text/html": [
              "<div>\n",
              "<style scoped>\n",
              "    .dataframe tbody tr th:only-of-type {\n",
              "        vertical-align: middle;\n",
              "    }\n",
              "\n",
              "    .dataframe tbody tr th {\n",
              "        vertical-align: top;\n",
              "    }\n",
              "\n",
              "    .dataframe thead th {\n",
              "        text-align: right;\n",
              "    }\n",
              "</style>\n",
              "<table border=\"1\" class=\"dataframe\">\n",
              "  <thead>\n",
              "    <tr style=\"text-align: right;\">\n",
              "      <th></th>\n",
              "      <th>NOME_PROGRAMA_GOVERNO</th>\n",
              "      <th>NOME_SUBFUNCAO</th>\n",
              "      <th>COUNT(DESP.COD_PROGRAMA_GOVERNO)</th>\n",
              "      <th>SUM(DESP.VALOR_DESPESA)</th>\n",
              "    </tr>\n",
              "  </thead>\n",
              "  <tbody>\n",
              "    <tr>\n",
              "      <th>0</th>\n",
              "      <td>ENEM</td>\n",
              "      <td>Educação básica</td>\n",
              "      <td>53</td>\n",
              "      <td>334262.06</td>\n",
              "    </tr>\n",
              "    <tr>\n",
              "      <th>1</th>\n",
              "      <td>BRASIL SEM MISERIA</td>\n",
              "      <td>Assistência comunitária</td>\n",
              "      <td>102</td>\n",
              "      <td>227883.77</td>\n",
              "    </tr>\n",
              "    <tr>\n",
              "      <th>2</th>\n",
              "      <td>BRASIL SEM MISERIA</td>\n",
              "      <td>Alimentação e nutrição</td>\n",
              "      <td>112</td>\n",
              "      <td>100373.55</td>\n",
              "    </tr>\n",
              "    <tr>\n",
              "      <th>3</th>\n",
              "      <td>PRONATEC</td>\n",
              "      <td>Ensino profissional</td>\n",
              "      <td>33</td>\n",
              "      <td>60262.46</td>\n",
              "    </tr>\n",
              "    <tr>\n",
              "      <th>4</th>\n",
              "      <td>BRASIL SEM MISERIA</td>\n",
              "      <td>Tecnologia da informação</td>\n",
              "      <td>26</td>\n",
              "      <td>58918.28</td>\n",
              "    </tr>\n",
              "    <tr>\n",
              "      <th>...</th>\n",
              "      <td>...</td>\n",
              "      <td>...</td>\n",
              "      <td>...</td>\n",
              "      <td>...</td>\n",
              "    </tr>\n",
              "    <tr>\n",
              "      <th>61</th>\n",
              "      <td>VIVER SEM LIMITE</td>\n",
              "      <td>Educação básica</td>\n",
              "      <td>1</td>\n",
              "      <td>0.00</td>\n",
              "    </tr>\n",
              "    <tr>\n",
              "      <th>62</th>\n",
              "      <td>VIVER SEM LIMITE</td>\n",
              "      <td>Transferências para a educação básica</td>\n",
              "      <td>2</td>\n",
              "      <td>0.00</td>\n",
              "    </tr>\n",
              "    <tr>\n",
              "      <th>63</th>\n",
              "      <td>VIVER SEM LIMITE</td>\n",
              "      <td>Assistência ao portador de deficiência</td>\n",
              "      <td>5</td>\n",
              "      <td>0.00</td>\n",
              "    </tr>\n",
              "    <tr>\n",
              "      <th>64</th>\n",
              "      <td>VIVER SEM LIMITE</td>\n",
              "      <td>Desenvolvimento científico</td>\n",
              "      <td>8</td>\n",
              "      <td>0.00</td>\n",
              "    </tr>\n",
              "    <tr>\n",
              "      <th>65</th>\n",
              "      <td>VIVER SEM LIMITE</td>\n",
              "      <td>Desenvolvimento tecnológico e engenharia</td>\n",
              "      <td>11</td>\n",
              "      <td>0.00</td>\n",
              "    </tr>\n",
              "  </tbody>\n",
              "</table>\n",
              "<p>66 rows × 4 columns</p>\n",
              "</div>"
            ],
            "text/plain": [
              "   NOME_PROGRAMA_GOVERNO  ... SUM(DESP.VALOR_DESPESA)\n",
              "0                   ENEM  ...               334262.06\n",
              "1     BRASIL SEM MISERIA  ...               227883.77\n",
              "2     BRASIL SEM MISERIA  ...               100373.55\n",
              "3               PRONATEC  ...                60262.46\n",
              "4     BRASIL SEM MISERIA  ...                58918.28\n",
              "..                   ...  ...                     ...\n",
              "61      VIVER SEM LIMITE  ...                    0.00\n",
              "62      VIVER SEM LIMITE  ...                    0.00\n",
              "63      VIVER SEM LIMITE  ...                    0.00\n",
              "64      VIVER SEM LIMITE  ...                    0.00\n",
              "65      VIVER SEM LIMITE  ...                    0.00\n",
              "\n",
              "[66 rows x 4 columns]"
            ]
          },
          "metadata": {
            "tags": []
          },
          "execution_count": 36
        }
      ]
    },
    {
      "cell_type": "markdown",
      "metadata": {
        "id": "-ijn38IU2WxV"
      },
      "source": [
        "9. Liste todas as despesas públicas (código da despesa, mês e ano da despesa, modalidade,\n",
        "valor) em que o órgão responsável é aquele que possui o maior número de órgãos\n",
        "subordinados."
      ]
    },
    {
      "cell_type": "code",
      "metadata": {
        "id": "XnGQsVnf2XsN",
        "outputId": "417ae120-60c1-46d9-a914-38db889b4a5a",
        "colab": {
          "base_uri": "https://localhost:8080/",
          "height": 419
        }
      },
      "source": [
        "query = \"\"\"\n",
        "SELECT COD_DESPESA, MES_DESPESA, ANO_DESPESA, MODALIDADE_DESPESA, VALOR_DESPESA FROM DESPESA_PUBLICA\n",
        "\"\"\"\n",
        "\n",
        "df = pd.read_sql_query(query, conn)\n",
        "df"
      ],
      "execution_count": 4,
      "outputs": [
        {
          "output_type": "execute_result",
          "data": {
            "text/html": [
              "<div>\n",
              "<style scoped>\n",
              "    .dataframe tbody tr th:only-of-type {\n",
              "        vertical-align: middle;\n",
              "    }\n",
              "\n",
              "    .dataframe tbody tr th {\n",
              "        vertical-align: top;\n",
              "    }\n",
              "\n",
              "    .dataframe thead th {\n",
              "        text-align: right;\n",
              "    }\n",
              "</style>\n",
              "<table border=\"1\" class=\"dataframe\">\n",
              "  <thead>\n",
              "    <tr style=\"text-align: right;\">\n",
              "      <th></th>\n",
              "      <th>COD_DESPESA</th>\n",
              "      <th>MES_DESPESA</th>\n",
              "      <th>ANO_DESPESA</th>\n",
              "      <th>MODALIDADE_DESPESA</th>\n",
              "      <th>VALOR_DESPESA</th>\n",
              "    </tr>\n",
              "  </thead>\n",
              "  <tbody>\n",
              "    <tr>\n",
              "      <th>0</th>\n",
              "      <td>0</td>\n",
              "      <td>11</td>\n",
              "      <td>2018</td>\n",
              "      <td>Reserva de Contingência</td>\n",
              "      <td>0.0</td>\n",
              "    </tr>\n",
              "    <tr>\n",
              "      <th>1</th>\n",
              "      <td>1</td>\n",
              "      <td>11</td>\n",
              "      <td>2018</td>\n",
              "      <td>Reserva de Contingência</td>\n",
              "      <td>0.0</td>\n",
              "    </tr>\n",
              "    <tr>\n",
              "      <th>2</th>\n",
              "      <td>2</td>\n",
              "      <td>12</td>\n",
              "      <td>2018</td>\n",
              "      <td>Reserva de Contingência</td>\n",
              "      <td>0.0</td>\n",
              "    </tr>\n",
              "    <tr>\n",
              "      <th>3</th>\n",
              "      <td>3</td>\n",
              "      <td>3</td>\n",
              "      <td>2018</td>\n",
              "      <td>Reserva de Contingência</td>\n",
              "      <td>0.0</td>\n",
              "    </tr>\n",
              "    <tr>\n",
              "      <th>4</th>\n",
              "      <td>4</td>\n",
              "      <td>4</td>\n",
              "      <td>2018</td>\n",
              "      <td>Reserva de Contingência</td>\n",
              "      <td>0.0</td>\n",
              "    </tr>\n",
              "    <tr>\n",
              "      <th>...</th>\n",
              "      <td>...</td>\n",
              "      <td>...</td>\n",
              "      <td>...</td>\n",
              "      <td>...</td>\n",
              "      <td>...</td>\n",
              "    </tr>\n",
              "    <tr>\n",
              "      <th>1122</th>\n",
              "      <td>1122</td>\n",
              "      <td>9</td>\n",
              "      <td>2018</td>\n",
              "      <td>Reserva de Contingência</td>\n",
              "      <td>0.0</td>\n",
              "    </tr>\n",
              "    <tr>\n",
              "      <th>1123</th>\n",
              "      <td>1123</td>\n",
              "      <td>10</td>\n",
              "      <td>2018</td>\n",
              "      <td>Reserva de Contingência</td>\n",
              "      <td>0.0</td>\n",
              "    </tr>\n",
              "    <tr>\n",
              "      <th>1124</th>\n",
              "      <td>1124</td>\n",
              "      <td>11</td>\n",
              "      <td>2018</td>\n",
              "      <td>Reserva de Contingência</td>\n",
              "      <td>0.0</td>\n",
              "    </tr>\n",
              "    <tr>\n",
              "      <th>1125</th>\n",
              "      <td>1125</td>\n",
              "      <td>12</td>\n",
              "      <td>2018</td>\n",
              "      <td>Reserva de Contingência</td>\n",
              "      <td>0.0</td>\n",
              "    </tr>\n",
              "    <tr>\n",
              "      <th>1126</th>\n",
              "      <td>1126</td>\n",
              "      <td>5</td>\n",
              "      <td>2018</td>\n",
              "      <td>Reserva de Contingência</td>\n",
              "      <td>0.0</td>\n",
              "    </tr>\n",
              "  </tbody>\n",
              "</table>\n",
              "<p>1127 rows × 5 columns</p>\n",
              "</div>"
            ],
            "text/plain": [
              "      COD_DESPESA  MES_DESPESA  ...       MODALIDADE_DESPESA VALOR_DESPESA\n",
              "0               0           11  ...  Reserva de Contingência           0.0\n",
              "1               1           11  ...  Reserva de Contingência           0.0\n",
              "2               2           12  ...  Reserva de Contingência           0.0\n",
              "3               3            3  ...  Reserva de Contingência           0.0\n",
              "4               4            4  ...  Reserva de Contingência           0.0\n",
              "...           ...          ...  ...                      ...           ...\n",
              "1122         1122            9  ...  Reserva de Contingência           0.0\n",
              "1123         1123           10  ...  Reserva de Contingência           0.0\n",
              "1124         1124           11  ...  Reserva de Contingência           0.0\n",
              "1125         1125           12  ...  Reserva de Contingência           0.0\n",
              "1126         1126            5  ...  Reserva de Contingência           0.0\n",
              "\n",
              "[1127 rows x 5 columns]"
            ]
          },
          "metadata": {
            "tags": []
          },
          "execution_count": 4
        }
      ]
    }
  ]
}